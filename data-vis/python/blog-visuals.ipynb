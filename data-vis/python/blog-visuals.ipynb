{
 "cells": [
  {
   "cell_type": "code",
   "execution_count": 7,
   "metadata": {},
   "outputs": [
    {
     "ename": "ModuleNotFoundError",
     "evalue": "No module named 'cassandrautils'",
     "output_type": "error",
     "traceback": [
      "\u001b[0;31m---------------------------------------------------------------------------\u001b[0m",
      "\u001b[0;31mModuleNotFoundError\u001b[0m                       Traceback (most recent call last)",
      "Input \u001b[0;32mIn [7]\u001b[0m, in \u001b[0;36m<cell line: 5>\u001b[0;34m()\u001b[0m\n\u001b[1;32m      3\u001b[0m \u001b[38;5;28;01mimport\u001b[39;00m \u001b[38;5;21;01mnumpy\u001b[39;00m \u001b[38;5;28;01mas\u001b[39;00m \u001b[38;5;21;01mnp\u001b[39;00m\n\u001b[1;32m      4\u001b[0m \u001b[38;5;28;01mimport\u001b[39;00m \u001b[38;5;21;01mmatplotlib\u001b[39;00m\u001b[38;5;21;01m.\u001b[39;00m\u001b[38;5;21;01mpyplot\u001b[39;00m \u001b[38;5;28;01mas\u001b[39;00m \u001b[38;5;21;01mplt\u001b[39;00m\n\u001b[0;32m----> 5\u001b[0m \u001b[38;5;28;01mfrom\u001b[39;00m \u001b[38;5;21;01mcassandrautils\u001b[39;00m \u001b[38;5;28;01mimport\u001b[39;00m \u001b[38;5;241m*\u001b[39m\n",
      "\u001b[0;31mModuleNotFoundError\u001b[0m: No module named 'cassandrautils'"
     ]
    }
   ],
   "source": [
    "import pandas as pd\n",
    "import seaborn as sns\n",
    "import numpy as np\n",
    "import matplotlib.pyplot as plt\n",
    "from cassandrautils import *\n"
   ]
  },
  {
   "cell_type": "code",
   "execution_count": null,
   "metadata": {},
   "outputs": [],
   "source": [
    "tweets = getTwitterDF()\n",
    "weather = getWeatherDF()\n",
    "\n",
    "tweets['Tweet timestamp'] = pd.to_datetime(tweets['tweet_date'], format=\"%d-%m-%Y %H:%M\")\n",
    "weather['forecast_timestamp'] = pd.to_datetime(weather['forecastdate'], format=\"%d-%m-%Y %H:%M\")\n",
    "print(\"Tweets from \", tweets['Tweet timestamp'].min(), \" To \", tweets['Tweet timestamp'].max())\n",
    "print(\"Weather from \", weather['forecast_timestamp'].min(), \" To \", weather['forecast_timestamp'].max())"
   ]
  },
  {
   "cell_type": "code",
   "execution_count": null,
   "metadata": {},
   "outputs": [],
   "source": [
    "ns10min = 30*60*1000000000   # 30 minutes in nanoseconds \n",
    "tweets['Tweet timestamp 10mins'] = pd.to_datetime(((tweets['Tweet timestamp'].astype(np.int64) // ns10min + 1 ) * ns10min))\n",
    "tweets['Tweet timestamp 10mins'] = pd.to_datetime(tweets['Tweet timestamp 10mins'], format=\"%d-%m-%Y %H:%M\")"
   ]
  },
  {
   "cell_type": "code",
   "execution_count": null,
   "metadata": {},
   "outputs": [],
   "source": [
    "plt.figure(figsize=(20,6))\n",
    "plt.plot(weather['forecast_timestamp'], weather['temp'])\n",
    "plt.xlabel(\"Tweet time\")\n",
    "plt.ylabel(\"Temperature\")\n",
    "plt.title(\"Total weather data recorded\")"
   ]
  },
  {
   "cell_type": "code",
   "execution_count": 5,
   "metadata": {},
   "outputs": [
    {
     "ename": "NameError",
     "evalue": "name 'weather' is not defined",
     "output_type": "error",
     "traceback": [
      "\u001b[0;31m---------------------------------------------------------------------------\u001b[0m",
      "\u001b[0;31mNameError\u001b[0m                                 Traceback (most recent call last)",
      "Input \u001b[0;32mIn [5]\u001b[0m, in \u001b[0;36m<cell line: 1>\u001b[0;34m()\u001b[0m\n\u001b[0;32m----> 1\u001b[0m ww \u001b[38;5;241m=\u001b[39m \u001b[43mweather\u001b[49m[(weather[\u001b[38;5;124m'\u001b[39m\u001b[38;5;124mforecast_timestamp\u001b[39m\u001b[38;5;124m'\u001b[39m] \u001b[38;5;241m<\u001b[39m\u001b[38;5;241m=\u001b[39m tweets[\u001b[38;5;124m'\u001b[39m\u001b[38;5;124mTweet timestamp\u001b[39m\u001b[38;5;124m'\u001b[39m]\u001b[38;5;241m.\u001b[39mmax())]\n\u001b[1;32m      2\u001b[0m plt\u001b[38;5;241m.\u001b[39mfigure(figsize\u001b[38;5;241m=\u001b[39m(\u001b[38;5;241m20\u001b[39m,\u001b[38;5;241m6\u001b[39m))\n\u001b[1;32m      3\u001b[0m plt\u001b[38;5;241m.\u001b[39mplot(ww[\u001b[38;5;124m'\u001b[39m\u001b[38;5;124mforecast_timestamp\u001b[39m\u001b[38;5;124m'\u001b[39m], ww[\u001b[38;5;124m'\u001b[39m\u001b[38;5;124mtemp\u001b[39m\u001b[38;5;124m'\u001b[39m])\n",
      "\u001b[0;31mNameError\u001b[0m: name 'weather' is not defined"
     ]
    }
   ],
   "source": [
    "ww = weather[(weather['forecast_timestamp'] <= tweets['Tweet timestamp'].max())]\n",
    "plt.figure(figsize=(20,6))\n",
    "plt.plot(ww['forecast_timestamp'], ww['temp'])\n",
    "plt.xlabel(\"Tweet time\")\n",
    "plt.ylabel(\"Temperature\")\n",
    "plt.title(\"Weather data within tweet window\")"
   ]
  },
  {
   "cell_type": "code",
   "execution_count": null,
   "metadata": {},
   "outputs": [],
   "source": [
    "plt.figure(figsize=(20,6))\n",
    "plt.plot(ww['forecast_timestamp'], ww['feels_like'])\n",
    "plt.xlabel(\"Tweet time\")\n",
    "plt.ylabel(\"Feels like Temperature in (Kelvin)\")"
   ]
  },
  {
   "cell_type": "code",
   "execution_count": null,
   "metadata": {
    "scrolled": false
   },
   "outputs": [],
   "source": [
    "value_counts = tweets.groupby(['Tweet timestamp 10mins'])['classification'].value_counts().rename_axis(['Tweet timestamp', 'classification']).reset_index(name='counts')\n",
    "#value_counts.index.names = ['test', 'check']\n",
    "\n",
    "value_counts.pivot(\"Tweet timestamp\", \"classification\", \"counts\").plot(kind='bar', figsize=(20,10))\n",
    "plt.xlabel(\"Tweet time\")\n",
    "plt.ylabel(\"Tweet Count\")\n",
    "plt.title(\"Plotting positive and negative tweet counts\")\n",
    "plt.show()\n"
   ]
  },
  {
   "cell_type": "code",
   "execution_count": null,
   "metadata": {},
   "outputs": [],
   "source": [
    "def scoring(senti, c_val):\n",
    "    if senti == \"Positive\":\n",
    "        return c_val\n",
    "    return c_val*(-1)\n",
    "\n",
    "\n",
    "value_counts['adjusted'] = value_counts.apply(lambda x: scoring(x[\"classification\"], x[\"counts\"]), axis=1)\n",
    "trend = value_counts.groupby(['Tweet timestamp'], as_index=False).agg({'adjusted' : \"sum\"})\n",
    "plt.figure(figsize=(20,6))\n",
    "plt.xlabel(\"Tweet time\")\n",
    "plt.ylabel(\"Net score\")\n",
    "plt.title(\"Plotting net tweet sentiments\")\n",
    "plt.plot(trend['Tweet timestamp'], trend['adjusted'])"
   ]
  },
  {
   "cell_type": "code",
   "execution_count": 4,
   "metadata": {},
   "outputs": [
    {
     "ename": "NameError",
     "evalue": "name 'ww' is not defined",
     "output_type": "error",
     "traceback": [
      "\u001b[0;31m---------------------------------------------------------------------------\u001b[0m",
      "\u001b[0;31mNameError\u001b[0m                                 Traceback (most recent call last)",
      "Input \u001b[0;32mIn [4]\u001b[0m, in \u001b[0;36m<cell line: 2>\u001b[0;34m()\u001b[0m\n\u001b[1;32m      1\u001b[0m plt\u001b[38;5;241m.\u001b[39mfigure(figsize\u001b[38;5;241m=\u001b[39m(\u001b[38;5;241m20\u001b[39m,\u001b[38;5;241m6\u001b[39m))\n\u001b[0;32m----> 2\u001b[0m plt\u001b[38;5;241m.\u001b[39mplot(\u001b[43mww\u001b[49m[\u001b[38;5;124m'\u001b[39m\u001b[38;5;124mforecast_timestamp\u001b[39m\u001b[38;5;124m'\u001b[39m], ww[\u001b[38;5;124m'\u001b[39m\u001b[38;5;124mfeels_like\u001b[39m\u001b[38;5;124m'\u001b[39m])\n\u001b[1;32m      3\u001b[0m plt\u001b[38;5;241m.\u001b[39mxlabel(\u001b[38;5;124m\"\u001b[39m\u001b[38;5;124mTweet time\u001b[39m\u001b[38;5;124m\"\u001b[39m)\n\u001b[1;32m      4\u001b[0m plt\u001b[38;5;241m.\u001b[39mylabel(\u001b[38;5;124m\"\u001b[39m\u001b[38;5;124mFeels like Temperature in (Kelvin)\u001b[39m\u001b[38;5;124m\"\u001b[39m)\n",
      "\u001b[0;31mNameError\u001b[0m: name 'ww' is not defined"
     ]
    },
    {
     "data": {
      "text/plain": [
       "<Figure size 1440x432 with 0 Axes>"
      ]
     },
     "metadata": {},
     "output_type": "display_data"
    }
   ],
   "source": [
    "plt.figure(figsize=(20,6))\n",
    "plt.plot(ww['forecast_timestamp'], ww['feels_like'])\n",
    "plt.xlabel(\"Tweet time\")\n",
    "plt.ylabel(\"Feels like Temperature in (Kelvin)\")\n",
    "plt.title(\"Plotting 'Feels like' temperature\")"
   ]
  }
 ],
 "metadata": {
  "kernelspec": {
   "display_name": "Python 3 (ipykernel)",
   "language": "python",
   "name": "python3"
  },
  "language_info": {
   "codemirror_mode": {
    "name": "ipython",
    "version": 3
   },
   "file_extension": ".py",
   "mimetype": "text/x-python",
   "name": "python",
   "nbconvert_exporter": "python",
   "pygments_lexer": "ipython3",
   "version": "3.8.13"
  }
 },
 "nbformat": 4,
 "nbformat_minor": 4
}
